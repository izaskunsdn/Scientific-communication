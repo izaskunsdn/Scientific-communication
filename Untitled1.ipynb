{
 "cells": [
  {
   "cell_type": "code",
   "execution_count": 1,
   "id": "4594cc0d-e5b6-4600-b957-2ef8271f7f0b",
   "metadata": {},
   "outputs": [
    {
     "name": "stdout",
     "output_type": "stream",
     "text": [
      "es un número perfecto\n",
      "None\n"
     ]
    }
   ],
   "source": [
    "#Creamos la funcion para ver si el numero es o no perfecto\n",
    "def perfecto(n):\n",
    "#definimos una variable suma que empiece en 0\n",
    "    suma = 0\n",
    "#creamos la excepcion para n=0\n",
    "    if n == 0:\n",
    "      print(\"no es un número perfecto\")\n",
    "    else:\n",
    "#con el bucle for recorre desde el 1 a el numero introducido\n",
    "       for i in range (1,n):\n",
    "#Condición: si el resto de la división del número introducido entre el numero recorrido i suma al contador suma + el número de posición que se ha recorrido \n",
    "           if n % i == 0:\n",
    "               suma = suma + i\n",
    "#Condición: si la suma es igual al número introducido\n",
    "       if suma == n and n != 0:\n",
    "              print(\"es un número perfecto\")\n",
    "#si no cumple las condiciones se imprime que no es\n",
    "       else:\n",
    "              print(\"no es un número perfecto\")\n",
    "\n",
    "print(perfecto(28))\n",
    "\n",
    "#hemos probado con 28 que si es perfecto y con el 2 que no es perfecto"
   ]
  },
  {
   "cell_type": "code",
   "execution_count": null,
   "id": "0f51e096-f5e1-4f20-b04b-049738d3e6af",
   "metadata": {},
   "outputs": [],
   "source": []
  }
 ],
 "metadata": {
  "kernelspec": {
   "display_name": "Python 3 (ipykernel)",
   "language": "python",
   "name": "python3"
  },
  "language_info": {
   "codemirror_mode": {
    "name": "ipython",
    "version": 3
   },
   "file_extension": ".py",
   "mimetype": "text/x-python",
   "name": "python",
   "nbconvert_exporter": "python",
   "pygments_lexer": "ipython3",
   "version": "3.9.13"
  }
 },
 "nbformat": 4,
 "nbformat_minor": 5
}
